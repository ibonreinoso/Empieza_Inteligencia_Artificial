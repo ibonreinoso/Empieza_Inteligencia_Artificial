{
  "nbformat": 4,
  "nbformat_minor": 0,
  "metadata": {
    "colab": {
      "provenance": []
    },
    "kernelspec": {
      "name": "python3",
      "display_name": "Python 3"
    },
    "language_info": {
      "name": "python"
    }
  },
  "cells": [
    {
      "cell_type": "markdown",
      "source": [
        "## Estádistica descriptiva y probabilidad\n",
        "El objetivo de este cuaderno es desarrollar los contenidos de estadística básica para elaborar nociones de Data Scientist básicas en matemática y estadística. Uso libre siempre que sea mencionado el autor.\n",
        "\n",
        "En el siguiente cuaderno se elaboran los siguientes aspectos:\n",
        "\n",
        "- Media\n",
        "- Varianza\n",
        "- Función Normal\n",
        "- MSE\n",
        "\n",
        " "
      ],
      "metadata": {
        "id": "QYkDewLcreJX"
      }
    },
    {
      "cell_type": "code",
      "source": [
        "print('pero antes de nada... veamos la relación de las variables y los conjuntos 😊')"
      ],
      "metadata": {
        "colab": {
          "base_uri": "https://localhost:8080/"
        },
        "id": "w7LlLFTusemT",
        "outputId": "4a9602f1-9579-45e2-9b38-cc75af8d933c"
      },
      "execution_count": null,
      "outputs": [
        {
          "output_type": "stream",
          "name": "stdout",
          "text": [
            "pero antes de nada... veamos la relación de las variables y los conjuntos 😊\n"
          ]
        }
      ]
    },
    {
      "cell_type": "markdown",
      "source": [
        "![image.png](data:image/png;base64,iVBORw0KGgoAAAANSUhEUgAAAA0AAAARCAYAAAAG/yacAAAA5UlEQVQ4jb3SzU0CURTF8R9IAbh0hyVgBdCAHxUYKjBWAFQAVCB2QAfq0h1W4Lhzh1Sgi3efPCbjR2LiTSZvcs/7zz3nZvhDtWpnk94q9XNUuMUU9+gWQA9LvMW9QRa6WMd5iIeGaXMMoR2NbQBTbDDBogZt80u7aFYxbYS7sHNR6O9NENyE5z7GuMRx3WcdEhfHUrZRfIhic00QXEsb20g59/J9BT3HhIWUr8LpTxCs7JYxw0sWOt9ApGyrmPT0W4i0jGVY/qwerqTQZ/Z/oVz9sDqEg4BO8IgjvMZTVu6tA/6n+gBpCC8ojqLGEgAAAABJRU5ErkJggg==)\n",
        "Pertenece a... {1, 2, 3, 4...} Pero no está el cero.\n",
        "\n",
        "![image.png](data:image/png;base64,iVBORw0KGgoAAAANSUhEUgAAAAwAAAARCAYAAADpPU2iAAAA00lEQVQ4ja3S0U0CQRSF4W8Tn8WtQJYGDB2ADQgNaCjBEqhA6AA6WKyADkxsQDuADvDBu9lh2DUx4U82uZO958w9M8M/KXrqPk5N0wolnvGJI/Z4wQ53GGDWKPfxVYnbGOuo1+m/AnW4pNSx6xjLfLZZtn7FIupNh9kZZbg3wvlfzbCNMVJhL1Nt0I3zQ7igwHs4T3UEzVlqw+9CmDLRHoQqmugPWuOxWWxDVEads/B7+9VNzHuLe7yF0yQyPeApmr/wXWCIUeZ4cvkYD/jo2P3K/AAOICMNqIU5dAAAAABJRU5ErkJggg==) {..., -1, 0, 1, 2, 3,...} Ya ahora, en este conjunto si tiene el 0.\n",
        "\n",
        "![image.png](data:image/png;base64,iVBORw0KGgoAAAANSUhEUgAAAA4AAAAUCAYAAAC9BQwsAAABLklEQVQ4jZ3SsVkCQRAF4J/TwEwIjZQK9GxAsQE/S7ACP0ugAT8tARsAQyOwAtREM0mNlIxIDHZODjwUfcm+nX2zs/N2+CdqS+JNbAcfY7goyBb2p7hHF3lc0MUArbJwvcQ7eAmeYxq8ix52I34Ba3F4gglecYun0oWTeG4NG9jCc9FnL0Q3aFT03MBV8OuixxwPEXzBW0XiO/ZKmjyLt48iOK5IKnAX6wD1TLJ9tFyPZNRHicvwaNbXtCKJ5MNh8CZqGfo4iGBu+VAUOMQwk8zYjKoj7FSItyUD67H/MrApDcAR2hWJnXjNZWjn0JL+c2hmveDDOGstJhWoR8Wp1Htf+sO26sH4hkvsm03V3s/yefSkGW4EP5McPV4l+VSa377k5ADnf6le8/v/roZPKmE9LrjyjmIAAAAASUVORK5CYII=) Ejemplo: { 1/2, 3/8 } Que a su vez, pertenece a... \n",
        "![image.png](data:image/png;base64,iVBORw0KGgoAAAANSUhEUgAAAA0AAAARCAYAAAAG/yacAAAA9ElEQVQ4jbXRsTKDURAF4I9oVJJSJZ6AlCq8QTqdhBfwCHgKJTqd0ekYFZWMTkW6qIJORZGTmSuTP4UZO3Nn7+7dc/bsXv5gcxN+mn1PA+2hk/gOu+gl3sr9FOdjUC3JfggO0UQXF7jGIhpoJzYf8G3R/bO497AUsgbWS9CsGd4LgkYVaNKa8W28wEJF4XibB5F3gzO8VoHWwljK2sdwXDBN3hNaYd2OvGFZUDXT0OhfujjOmQkab+8Sm5FXT/df1irYjor8ajrWcRWvlocdrBh9bMdoCW8Y5L2FR5zgoZZhl/GRofuJBzn32EjuGV8Ve/gH+wHEuDPT3sI3nwAAAABJRU5ErkJggg==) { 0.123, π, 34.71,... }\n",
        "\n"
      ],
      "metadata": {
        "id": "zvMOPWCKv2dU"
      }
    },
    {
      "cell_type": "markdown",
      "source": [],
      "metadata": {
        "id": "jOxUsgT5dRqz"
      }
    },
    {
      "cell_type": "markdown",
      "source": [
        "## Estadistica Descriptiva:\n",
        "Busca generalizar y ver los datos como están.\n",
        "\n",
        "- Dataset = Población.\n",
        "- Columnas = Variables. \n",
        "- Fila = Observación.\n"
      ],
      "metadata": {
        "id": "hyKyCsK9sk7V"
      }
    },
    {
      "cell_type": "markdown",
      "source": [
        "\n",
        "### Medidas de centro:\n",
        "1. Moda (aka medida de centro): El dato con mayor frecuencia\n",
        "2. Mediana\n",
        "3. Media Aritmética\n"
      ],
      "metadata": {
        "id": "zsBWdNjYvr6d"
      }
    },
    {
      "cell_type": "markdown",
      "source": [
        "##### 1. Moda"
      ],
      "metadata": {
        "id": "offJyqpB1QUA"
      }
    },
    {
      "cell_type": "code",
      "source": [
        "'''\n",
        "#Moda\n",
        "'''\n",
        "\n",
        "datos = [1,1,2,2,3,4,5,2] #En este caso la moda es 2\n",
        "\n",
        "#Puede haber dos...\n",
        "datos = [1,1,2,2,3,4,5] #En este caso la moda sería {1,2}\n"
      ],
      "metadata": {
        "id": "6f4-udr7tMM4"
      },
      "execution_count": null,
      "outputs": []
    },
    {
      "cell_type": "markdown",
      "source": [
        "##### 2. Mediana"
      ],
      "metadata": {
        "id": "CjJSWvVy1OrP"
      }
    },
    {
      "cell_type": "code",
      "source": [
        "'''\n",
        "#Mediana\n",
        "'''\n",
        "\n",
        "#Observación que separa el conjunto de datos\n",
        "\n",
        "datos = [1,1,2,2,3,4,5] #El elemento a partir del cual se divide el conjunto de datos por la mitad. A partir del segundo 2, tenemos {1,1,2},2,{3,4,5}\n",
        "\n",
        "datos2 = [10,9,2,1,5] #PASO 1: Ordeno --> [1,2,5,9,10] --> EL elemento que separa... [1,2] 5 [9,10]\n",
        "datos3 = [10,9,2,1,5,7] #PASO 1: Ordeno --> [1,2,5,7,9,10] --> El elemento que separa... [1,2,(5,7),9,10] NO LO HAY!! Luego... (5 + 7) = 6\n",
        "\n"
      ],
      "metadata": {
        "id": "LVZKFozptlGU"
      },
      "execution_count": null,
      "outputs": []
    },
    {
      "cell_type": "markdown",
      "source": [
        "##### 3. Media aritmética\n",
        "\n",
        "\n"
      ],
      "metadata": {
        "id": "U4zdwy8J0_Ih"
      }
    },
    {
      "cell_type": "markdown",
      "source": [
        "$\\bar{X} = \\frac{(x_1 + x_2 + x_3 + ... + x_n)}{N}$"
      ],
      "metadata": {
        "id": "D-cmdPwX3iq4"
      }
    },
    {
      "cell_type": "code",
      "source": [
        "#Siendo datos lo que sean...\n",
        "\n",
        "def calcularMedia(poblacion):\n",
        "  return sum(poblacion)/len(poblacion)\n",
        "\n",
        "print(calcularMedia([28,21,18,26,23,21,21,23,23,24,28,26,29,22,29,18,28,29,28]))\n",
        "print(calcularMedia([1, 2, 3, 4, 5, 6]))\n",
        "print(calcularMedia([1, 2, 5, 6, 9, 12, 567, 9]))"
      ],
      "metadata": {
        "colab": {
          "base_uri": "https://localhost:8080/"
        },
        "id": "-iZV4jTO1ikD",
        "outputId": "241f67ea-9cc4-4ac2-dd0f-6d4ca3374760"
      },
      "execution_count": null,
      "outputs": [
        {
          "output_type": "stream",
          "name": "stdout",
          "text": [
            "24.473684210526315\n",
            "3.5\n",
            "76.375\n"
          ]
        }
      ]
    },
    {
      "cell_type": "markdown",
      "source": [
        "## Simbolos que veremos y que no hay que temer..."
      ],
      "metadata": {
        "id": "EaHseUbn7A_p"
      }
    },
    {
      "cell_type": "markdown",
      "source": [
        "$$\\sum_{i=1}^{n}$$ \n",
        "Es lo mismo que ${(x_1 + x_2 + x_3 + ... + x_n)}$\n",
        "\n",
        "o \n",
        "\n",
        "$\\prod_{i=1}^{3}$  Significa  $x_{i}=x_{1}\\cdot x_{2}\\cdot x_{3} $"
      ],
      "metadata": {
        "id": "685ELDAh6aeG"
      }
    },
    {
      "cell_type": "markdown",
      "source": [
        "### Medidas de dispersión\n",
        "1. Varianza \n",
        "2. Desviación estándar"
      ],
      "metadata": {
        "id": "M55DR67P7GxM"
      }
    },
    {
      "cell_type": "markdown",
      "source": [
        "#### 1. Varianza\n",
        "$σ^2 = \\frac{\\sum_{i=1}^{n}(x_i - \\bar x)^2}{n}$\n",
        "\n",
        "Imaginemos dos personas que van a comer dos bocadillos de pollo 🍗. Tenemos que las dos personas, siendo cada uno de ellos $x1 = persona1$ y $x2 = persona2 $. \n",
        "\n",
        "`x1 = 2` (es decir, la primera persona ha comido los dos bocadillos)\n",
        "`x2 = 0` (la segunda persona, no ha comido ningún bocadillo).\n",
        "\n"
      ],
      "metadata": {
        "id": "Y8Go905r7uG9"
      }
    },
    {
      "cell_type": "code",
      "source": [
        "#Datos:\n",
        "\n",
        "datos = [1, 3, 5, 9, 10]\n",
        "\n",
        "#Media y varianza? (Varianza=5.6 y Sigma^2=11.84)"
      ],
      "metadata": {
        "id": "yKTQbgcUJ0mN"
      },
      "execution_count": null,
      "outputs": []
    },
    {
      "cell_type": "markdown",
      "source": [
        "## Probabilidades \n",
        "\n",
        "\n",
        "\n",
        "La Regla de Laplace:  $P(A) = \\frac {Nº casos favorables}{Nº casos totales}$\n",
        "\n",
        "\n",
        "- Si lanzamos un dado 🎲 tiene 6 lados posibles: {1,2,3,4,5,6}.\n",
        "- Cada lado puede salir con la misma probabilidad... siempre que el dado no esté trucado 😬\n",
        "\n",
        "Cuando lanzamos un dado, sabemos que la probabilidad de que salga cualquier número es $P(A) = \\frac {1}{6}$ siendo `A = Probabilidad de que salga un 6`\n"
      ],
      "metadata": {
        "id": "sGqMISpLIRkp"
      }
    },
    {
      "cell_type": "markdown",
      "source": [
        "### Funciones de distribución\n",
        "\n",
        "* El área de la función debe dar siempre 1\n",
        "\n",
        "### Teorema del Límite Central\n",
        "\n",
        "Si tenemos un suceso, partiendo de que pasa muchísimo y un número de datos suficientemente grande, todo tiende a tener una pinta de distribución Normal.\n",
        "\n",
        "\n"
      ],
      "metadata": {
        "id": "uWKYfL6dKrP0"
      }
    },
    {
      "cell_type": "markdown",
      "source": [],
      "metadata": {
        "id": "Me6tb2__rM_y"
      }
    },
    {
      "cell_type": "code",
      "source": [
        "'''\n",
        "1) Calcular media\n",
        "2) Moda \n",
        "3) Mediana\n",
        "4) Calcular varianza\n",
        "5) Normalizar TODO\n",
        "'''\n",
        "\n",
        "def calcularMedia(poblacion):\n",
        "  return sum(poblacion)/len(poblacion)\n",
        "\n",
        "def calcularModa(poblacion):\n",
        "  resultado = []\n",
        "  vecesRepetido = []\n",
        "  for o in poblacion:\n",
        "    if poblacion.count(o) > 1:\n",
        "            vecesRepetido.append([poblacion.count(o), o])\n",
        "  if vecesRepetido == []:\n",
        "    resultado = poblacion\n",
        "  else:\n",
        "    resultado = max(vecesRepetido)[1]\n",
        "  return resultado\n",
        "\n",
        "def calcularMediana(poblacion):\n",
        "  ordenado = sorted(poblacion)\n",
        "  resultado = 0\n",
        "  if(len(poblacion) % 2 == 0):\n",
        "    resultado = (ordenado[int(len(poblacion)/2) - 1] + ordenado[int(len(poblacion)/ 2)])/2\n",
        "  else:\n",
        "    resultado = ordenado[int(len(poblacion)/2)]\n",
        "  return resultado\n",
        "\n",
        "def calcularVarianza(poblacion):\n",
        "  media = calcularMedia(poblacion)\n",
        "  total = 0\n",
        "  for o in poblacion:\n",
        "    total += (o - media) ** 2\n",
        "  total /= len(poblacion)\n",
        "  return total\n",
        "\n",
        "\n",
        "edad = [28,21,18,26,23,21,21,23,23,24,28,26,29,22,29,18,28,29,28]\n",
        "notas = [3.0, 4.6, 6.4, 6.8, 7.1, 7.4, 7.8, 8.1, 8.8, 9, 10]\n",
        "\n",
        "\n",
        "dataSet=[ edad, notas ]\n",
        "for columna in dataSet:\n",
        "  \n",
        "  print('Variable a analizar:', columna)\n",
        "  media = calcularMedia(columna)\n",
        "  print('Media', media)\n",
        "  varianza = calcularVarianza(columna)\n",
        "  desviacionEstandar =  varianza ** 0.5\n",
        "  moda = calcularModa(columna)\n",
        "  mediana = calcularMediana(columna)\n",
        "  print('Varianza:',round(varianza,2),'Desv. Estándar:',round(desviacionEstandar,2),'Moda:',moda,'Mediana:',mediana)\n",
        "  print('-----------------------------')\n"
      ],
      "metadata": {
        "colab": {
          "base_uri": "https://localhost:8080/"
        },
        "id": "dhwBRZkHNwIS",
        "outputId": "f3236a2c-30be-4d65-fdc1-4803be800a6d"
      },
      "execution_count": null,
      "outputs": [
        {
          "output_type": "stream",
          "name": "stdout",
          "text": [
            "Variable a analizar: [28, 21, 18, 26, 23, 21, 21, 23, 23, 24, 28, 26, 29, 22, 29, 18, 28, 29, 28]\n",
            "Media 24.473684210526315\n",
            "Varianza: 13.09 Desv. Estándar: 3.62 Moda: 28 Mediana: 24\n",
            "-----------------------------\n",
            "Variable a analizar: [3.0, 4.6, 6.4, 6.8, 7.1, 7.4, 7.8, 8.1, 8.8, 9, 10]\n",
            "Media 7.181818181818182\n",
            "Varianza: 3.64 Desv. Estándar: 1.91 Moda: [3.0, 4.6, 6.4, 6.8, 7.1, 7.4, 7.8, 8.1, 8.8, 9, 10] Mediana: 7.4\n",
            "-----------------------------\n"
          ]
        }
      ]
    },
    {
      "cell_type": "markdown",
      "source": [
        "# Bloque 2: Machine Learning\n",
        "\n",
        "El siguiente bloque trabaja dos conceptos clave de los Algoritmos Supervisados 🎯 cuyo objetivo final es predecir una columna objetivo conocido comunmente como Target, colocado a la derecha del dataset habitualmente. \n",
        "el bloque de Matriz de Confusión y algunas funcionalidades clave como MAE "
      ],
      "metadata": {
        "id": "utLUAI2erPhf"
      }
    },
    {
      "cell_type": "code",
      "source": [
        "\n",
        "import random\n",
        "\n",
        "def calcularAcierto(caso_positivo_clase1, caso_positivo_clase2, falso_positivo_clase1, falso_positivo_clase2):\n",
        "  '''\n",
        "  A partir de la matriz de confusión, calcula las estadísticas de...\n",
        "  - [0]: accuracy, en castellano, acierto = Porcentaje de acierto del modelo\n",
        "  - [1]: recall_medio de las dos clases\n",
        "  - [2]: precision_medio de las dos clases \n",
        "  '''\n",
        "  accuracy = round(100 *(caso_positivo_clase1 + caso_positivo_clase2)/(caso_positivo_clase1 + caso_positivo_clase2 + falso_positivo_clase1 + falso_positivo_clase2),  4) \n",
        "\n",
        "  recall_clase1 = caso_positivo_clase1 / (caso_positivo_clase1 + falso_positivo_clase2)\n",
        "  recall_clase2 = caso_positivo_clase2 / (caso_positivo_clase2 + falso_positivo_clase1)\n",
        "  recall_medio = round(100  * ((recall_clase1 + recall_clase2) / 2), 4)\n",
        "  precision_clase1 = caso_positivo_clase1 / (caso_positivo_clase1 + falso_positivo_clase1)\n",
        "  precision_clase2 = caso_positivo_clase2 / (caso_positivo_clase2 + falso_positivo_clase2)\n",
        "  precision_medio = round(100* ((precision_clase1 + precision_clase2) / 2), 4)\n",
        "\n",
        "  return [accuracy, recall_medio, precision_medio]\n",
        "\n",
        "def cruzarIndices(indices : list):\n",
        "  '''\n",
        "  Dado una lista de índices, simulamos la aleatorización para determinar nuevos datos.\n",
        "  De esta manera, minimizamos el sesgo a la hora de entrenar.\n",
        "  '''\n",
        "  indicesNuevos = indices \n",
        "  random.shuffle(indicesNevos)\n",
        "  print(indices)\n",
        "  print(indicesNuevos)\n",
        "  return indicesNuevos\n",
        "\n",
        "def calcularMAE(target_y_prediccion : list):\n",
        "  '''\n",
        "  A partir de un dataset con el target y el predictor con sus resultados\n",
        "  calculamos el error absoluto medio. De esta manera, podemos medir cuánto falla un modelo y hacer comparaciones entre dos modelos.\n",
        "  '''\n",
        "  target, prediccion = target_y_prediccion[0], target_y_prediccion[1] \n",
        "\n",
        "  total_diferencia = 0\n",
        "  for i in range(len(target)):\n",
        "    total_diferencia += abs(target[i] - prediccion[i])\n",
        "  mae = total_diferencia / (len(target))\n",
        "  return mae\n"
      ],
      "metadata": {
        "id": "HBYR41BdGccm"
      },
      "execution_count": null,
      "outputs": []
    },
    {
      "cell_type": "markdown",
      "source": [
        "\n",
        "\n",
        "## Contacto\n",
        "\n",
        "\n",
        "Si quieres aprender de Ciencia de Datos y el mundo de Machine Learning e IAs 🤖, Estadística & Analítica Avanzada 📈, Big Data 🐘, Algoritmos, Bases de Datos y la Programación 👨‍💻 puedes hacerlo desde [BigBayData.com](BigBayData.com/ \"Big Data\")\n",
        "\n",
        "¿Nos conectamos? 📲 [Ibon Reinoso, Sígueme en LinkedIn](https://www.linkedin.com/in/ibon-reinoso-isasi/ \"link title\")\n",
        "\n",
        "### Licencia\n",
        "**Uso libre de contenido siempre que sea mencionado el autor y la web BigBayData.**\n",
        "\n"
      ],
      "metadata": {
        "id": "RX6JigOnGhCU"
      }
    }
  ]
}